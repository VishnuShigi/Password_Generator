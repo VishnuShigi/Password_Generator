{
 "cells": [
  {
   "cell_type": "code",
   "execution_count": 1,
   "id": "d4b64385",
   "metadata": {},
   "outputs": [],
   "source": [
    "#Importing the libraries\n",
    "from tkinter import *\n",
    "import random, string\n",
    "import pyperclip"
   ]
  },
  {
   "cell_type": "code",
   "execution_count": 2,
   "id": "20b2647c",
   "metadata": {},
   "outputs": [],
   "source": [
    "#Creatiing the window using Tkinter\n",
    "root = Tk()\n",
    "root.geometry (\"500x500\")\n",
    "root.resizable (0,0)\n",
    "root.title (\"Password Generator\")\n",
    "\n",
    "Label (root, text = \"Password Generator\", font = 'arial 16 bold').pack()\n",
    "\n",
    "#Creating a spinbox to get the length of the password from 8 to 32\n",
    "pa_lable = Label (root, text = \"Password Length\", font = 'arial 11 bold').pack()\n",
    "pa_len = IntVar()\n",
    "lebgth = Spinbox (root, from_=8, to_=32, textvariable = pa_len, width = 16).pack()"
   ]
  },
  {
   "cell_type": "code",
   "execution_count": 3,
   "id": "b8687ada",
   "metadata": {},
   "outputs": [],
   "source": [
    "#Password generation function\n",
    "pa_str = StringVar()\n",
    "\n",
    "def generator():\n",
    "    password = ''\n",
    "    \n",
    "    for x in range (0,4):\n",
    "        password = random.choice(string.ascii_uppercase) + random.choice(string.ascii_lowercase) + random.choice(string.digits) + random.choice(string.punctuation)\n",
    "    for y in range(pa_len.get()- 4):\n",
    "        password = password + random.choice(string.ascii_uppercase + string.ascii_lowercase + string.digits + string.punctuation)\n",
    "    \n",
    "    pa_str.set(password)"
   ]
  },
  {
   "cell_type": "code",
   "execution_count": 4,
   "id": "88147212",
   "metadata": {},
   "outputs": [],
   "source": [
    "#Creating the password generator button\n",
    "Button (root, text = \"Generate Password\", command = generator).pack (pady = 5)\n",
    "#Showing the password generated\n",
    "Entry (root, textvariable = pa_str).pack()"
   ]
  },
  {
   "cell_type": "code",
   "execution_count": 5,
   "id": "b98a9006",
   "metadata": {},
   "outputs": [],
   "source": [
    "#Function to copy the password to clipboard\n",
    "def cpypass():\n",
    "    pyperclip.copy (pa_str.get())\n",
    "    \n",
    "#Creating the copy to clipboard button\n",
    "Button (root, text = \"Copy to Clipboard\", command = cpypass).pack (pady = 5)"
   ]
  },
  {
   "cell_type": "code",
   "execution_count": 6,
   "id": "d050141f",
   "metadata": {},
   "outputs": [],
   "source": [
    "root.mainloop()"
   ]
  }
 ],
 "metadata": {
  "kernelspec": {
   "display_name": "Python 3",
   "language": "python",
   "name": "python3"
  },
  "language_info": {
   "codemirror_mode": {
    "name": "ipython",
    "version": 3
   },
   "file_extension": ".py",
   "mimetype": "text/x-python",
   "name": "python",
   "nbconvert_exporter": "python",
   "pygments_lexer": "ipython3",
   "version": "3.9.4"
  }
 },
 "nbformat": 4,
 "nbformat_minor": 5
}
